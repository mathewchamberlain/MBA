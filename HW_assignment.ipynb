{
  "nbformat": 4,
  "nbformat_minor": 0,
  "metadata": {
    "colab": {
      "provenance": [],
      "collapsed_sections": [
        "4AI6kCjUdadG",
        "9s5oNkZ-fHTs",
        "shbVGxPpJHJw",
        "fc4pLaLStH0C",
        "g7rpJJHWE8iT",
        "B_Po3aNajyEI",
        "P6VCBYbIxsa6",
        "ysfBHccyUGp7",
        "vedt4TxnQsc3",
        "TI_ZThaMN7ie"
      ],
      "toc_visible": true,
      "include_colab_link": true
    },
    "kernelspec": {
      "name": "python3",
      "display_name": "Python 3"
    }
  },
  "cells": [
    {
      "cell_type": "markdown",
      "metadata": {
        "id": "view-in-github",
        "colab_type": "text"
      },
      "source": [
        "<a href=\"https://colab.research.google.com/github/mathewchamberlain/MBA/blob/main/HW_assignment.ipynb\" target=\"_parent\"><img src=\"https://colab.research.google.com/assets/colab-badge.svg\" alt=\"Open In Colab\"/></a>"
      ]
    },
    {
      "cell_type": "markdown",
      "metadata": {
        "id": "4AI6kCjUdadG"
      },
      "source": [
        "## Alternative HW assignment\n",
        "\n",
        "\n"
      ]
    },
    {
      "cell_type": "markdown",
      "metadata": {
        "id": "j_jWf_sDdxk6"
      },
      "source": [
        "## Setup\n",
        "\n",
        "Lets start by importing the packages we'll need and mounting our Google Drive as before. "
      ]
    },
    {
      "cell_type": "code",
      "metadata": {
        "id": "ZNxLcICQuclV",
        "colab": {
          "base_uri": "https://localhost:8080/"
        },
        "outputId": "b90281f3-1ddf-4c90-e07f-0ece28d58a6f"
      },
      "source": [
        "import pandas as pd\n",
        "import numpy as np\n",
        "import matplotlib.pyplot as plt\n",
        "from sklearn.pipeline import make_pipeline\n",
        "from sklearn.preprocessing import StandardScaler\n",
        "from sklearn.linear_model import Lasso\n",
        "from sklearn.metrics import mean_squared_error\n",
        "from google.colab import drive\n",
        "from sklearn.preprocessing import PolynomialFeatures\n",
        "drive.mount('/content/drive/')"
      ],
      "execution_count": 2,
      "outputs": [
        {
          "output_type": "stream",
          "name": "stdout",
          "text": [
            "Drive already mounted at /content/drive/; to attempt to forcibly remount, call drive.mount(\"/content/drive/\", force_remount=True).\n"
          ]
        }
      ]
    },
    {
      "cell_type": "code",
      "metadata": {
        "id": "xqONUClOu9vo"
      },
      "source": [
        "# import the data\n",
        "df = pd.read_csv('/content/drive/MyDrive/housing22.csv', delimiter=',',index_col = 0)"
      ],
      "execution_count": 3,
      "outputs": []
    },
    {
      "cell_type": "markdown",
      "source": [],
      "metadata": {
        "id": "cJvzinC6ovBq"
      }
    },
    {
      "cell_type": "code",
      "source": [
        "# remove all instances where population is less than 2000 or total_rooms < 35000\n",
        "df = df[(df['population'] < 20000) | (df['total_rooms'] < 35000)]\n",
        "# replace missing values with the column median\n",
        "df['total_bedrooms'] = df['total_bedrooms'].fillna(df['total_bedrooms'].median())"
      ],
      "metadata": {
        "id": "VTrmvhb0Ay95"
      },
      "execution_count": 4,
      "outputs": []
    },
    {
      "cell_type": "code",
      "metadata": {
        "id": "iqYd7CNywwVO",
        "colab": {
          "base_uri": "https://localhost:8080/"
        },
        "outputId": "114589a8-58cc-4f63-f16a-119e24ed0511"
      },
      "source": [
        "# split test and train using the first 5000 rows. Setup test + train.\n",
        "n = df.shape[0] - 5000\n",
        "df_train = df.head(5000)\n",
        "df_test = df.tail(n)\n",
        "y_train = df_train['median_house_value']\n",
        "y_test = df_test['median_house_value']\n",
        "df_train = df_train.drop('median_house_value', axis=1)\n",
        "df_test = df_test.drop('median_house_value', axis=1)\n",
        "print(df_train.shape, df_test.shape)"
      ],
      "execution_count": 5,
      "outputs": [
        {
          "output_type": "stream",
          "name": "stdout",
          "text": [
            "(5000, 11) (3002, 11)\n"
          ]
        }
      ]
    },
    {
      "cell_type": "code",
      "source": [
        "# make 100 values of lambda\n",
        "lambda_vals = np.logspace(1,5,100)\n",
        "norms = []\n",
        "mses = []\n",
        "mses_test = []\n",
        "coefs = []\n",
        "\n",
        "# generate LASSO model with standardization\n",
        "for a in lambda_vals: \n",
        "  model = make_pipeline(StandardScaler(with_mean=False),\n",
        "                      Lasso(alpha=a, max_iter=10000))\n",
        "  model.fit(df_train, y_train)\n",
        "  norms.append(np.linalg.norm(model['lasso'].coef_)) # store model coef\n",
        "  mses.append(mean_squared_error(model.predict(df_train),y_train)) # store MSE\n",
        "  mses_test.append(mean_squared_error(model.predict(df_test),y_test)) # store MSE\n",
        "  coefs.append(model['lasso'].coef_)  # sparse matrix)\n",
        "fig, ax1 = plt.subplots()\n",
        "\n",
        "ax1.set_xlabel('Alpha (Lambda)', color='b')\n",
        "ax1.set_ylabel('coeff norms', color='r')\n",
        "ax1.set_xscale('log')\n",
        "ax1.plot(lambda_vals, np.array(norms), color='r')\n",
        "ax1.tick_params(axis='y', labelcolor='r')\n",
        "\n",
        "ax2 = ax1.twinx()  # instantiate a second axis that shares the same x-axis\n",
        "\n",
        "ax2.set_ylabel('MSE-train', color='b')  #  already handled the x-label \n",
        "ax2.plot(lambda_vals, np.array(mses), color='b')\n",
        "ax2.tick_params(axis='y', labelcolor='b')\n",
        "\n",
        "fig.tight_layout() \n",
        "plt.show()"
      ],
      "metadata": {
        "colab": {
          "base_uri": "https://localhost:8080/",
          "height": 297
        },
        "id": "jZMT6FnbFBIt",
        "outputId": "2a841488-0125-4bab-810c-e03ddca3da12"
      },
      "execution_count": 6,
      "outputs": [
        {
          "output_type": "display_data",
          "data": {
            "text/plain": [
              "<Figure size 432x288 with 2 Axes>"
            ],
            "image/png": "[encoded data removed]"
          },
          "metadata": {
            "needs_background": "light"
          }
        }
      ]
    },
    {
      "cell_type": "code",
      "source": [
        "fig, ax1 = plt.subplots()\n",
        "\n",
        "ax1.set_xlabel('Alpha (Lambda)', color='b')\n",
        "ax1.set_ylabel('coeff norms', color='r')\n",
        "ax1.set_xscale('log')\n",
        "ax1.plot(lambda_vals, np.array(norms), color='r')\n",
        "ax1.tick_params(axis='y', labelcolor='r')\n",
        "\n",
        "ax2 = ax1.twinx()  # instantiate a second axis that shares the same x-axis\n",
        "\n",
        "ax2.set_ylabel('MSE-train', color='b')  #  already handled the x-label \n",
        "ax2.plot(lambda_vals, np.array(mses_test), color='b')\n",
        "ax2.tick_params(axis='y', labelcolor='b')\n",
        "\n",
        "fig.tight_layout() \n",
        "plt.show()"
      ],
      "metadata": {
        "colab": {
          "base_uri": "https://localhost:8080/",
          "height": 297
        },
        "id": "xl4ZLQ8UJQtG",
        "outputId": "e9a6c987-4c3b-4561-9c6f-adb92313efab"
      },
      "execution_count": 7,
      "outputs": [
        {
          "output_type": "display_data",
          "data": {
            "text/plain": [
              "<Figure size 432x288 with 2 Axes>"
            ],
            "image/png": "[encoded data removed]"
          },
          "metadata": {
            "needs_background": "light"
          }
        }
      ]
    },
    {
      "cell_type": "markdown",
      "metadata": {
        "id": "Hg5CwMumfQjJ"
      },
      "source": [
        "*We* can refresh our memories of what goes on in the dataset by looking at the column names. "
      ]
    },
    {
      "cell_type": "code",
      "source": [
        "dc = pd.DataFrame(coefs, columns = df_train.columns)\n",
        "dc['lambda'] = lambda_vals"
      ],
      "metadata": {
        "id": "SyewxU7eUoRm"
      },
      "execution_count": 23,
      "outputs": []
    },
    {
      "cell_type": "code",
      "source": [
        "import matplotlib.pyplot as plt\n",
        "company_list = dc.columns.drop('lambda')\n",
        "dc.plot(x='lambda', y = company_list, title=f'Variables vs. lambda')\n",
        "plt.show()"
      ],
      "metadata": {
        "colab": {
          "base_uri": "https://localhost:8080/",
          "height": 295
        },
        "id": "3nAGjpkggkto",
        "outputId": "67a2cf7e-6fa5-4010-a33c-84da6d03e1e4"
      },
      "execution_count": 44,
      "outputs": [
        {
          "output_type": "display_data",
          "data": {
            "text/plain": [
              "<Figure size 432x288 with 1 Axes>"
            ],
            "image/png": "[encoded data removed]"
          },
          "metadata": {
            "needs_background": "light"
          }
        }
      ]
    },
    {
      "cell_type": "code",
      "source": [
        "from sklearn.model_selection import cross_val_score\n",
        "cvs = []\n",
        "train_mses=[]\n",
        "\n",
        "for a in lambda_vals: \n",
        "  model = make_pipeline(StandardScaler(with_mean=False),\n",
        "                      Lasso(alpha=a, max_iter=10000))\n",
        "  cv_a = cross_val_score(model, df_train, y_train, cv=5, scoring='neg_mean_squared_error')\n",
        "  cvs.append(np.mean(-cv_a))\n",
        "\n",
        "  #for comparison\n",
        "  model.fit(df_train, y_train)\n",
        "  train_mses.append(mean_squared_error(model.predict(df_train),y_train))\n",
        "\n",
        "plt.xscale('log')\n",
        "plt.plot(lambda_vals, cvs, label='CV scores')\n",
        "plt.plot(lambda_vals, train_mses, label='train mse')\n",
        "plt.legend()"
      ],
      "metadata": {
        "colab": {
          "base_uri": "https://localhost:8080/",
          "height": 298
        },
        "id": "mFfQqZZFJwXm",
        "outputId": "38fb551d-1343-41b1-e3fe-0a7c8a9857bf"
      },
      "execution_count": 45,
      "outputs": [
        {
          "output_type": "execute_result",
          "data": {
            "text/plain": [
              "<matplotlib.legend.Legend at 0x7fa8175a2c70>"
            ]
          },
          "metadata": {},
          "execution_count": 45
        },
        {
          "output_type": "display_data",
          "data": {
            "text/plain": [
              "<Figure size 432x288 with 1 Axes>"
            ],
            "image/png": "[encoded data removed]"
          },
          "metadata": {
            "needs_background": "light"
          }
        }
      ]
    },
    {
      "cell_type": "markdown",
      "metadata": {
        "id": "9s5oNkZ-fHTs"
      },
      "source": [
        "## Training a linear regression model"
      ]
    },
    {
      "cell_type": "markdown",
      "metadata": {
        "id": "ou8rI9j0f5f5"
      },
      "source": [
        "Let's start by setting up a very simple model that only cares about which browser a user uses. We will create a list, `predictors1` to hold ne column names of the predictors we want to include in our model to make indexing easier."
      ]
    },
    {
      "cell_type": "code",
      "metadata": {
        "id": "MHC31vFIgj84"
      },
      "source": [
        "predictors = ['browser1', 'browser2', 'browser3']\n",
        "X1_train = df_train[predictors]\n",
        "X1_test = df_test[predictors]\n",
        "y_train = df_train['p_open']\n",
        "y_test = df_test['p_open']"
      ],
      "execution_count": null,
      "outputs": []
    },
    {
      "cell_type": "markdown",
      "metadata": {
        "id": "KHaZtj6cgrWi"
      },
      "source": [
        "Now we can follow the same four steps as always. First, choose a model class, instantiante the model and set hyperparameter values, then fit to your data. Remember we can access model attributes, in this case the coefficients and intercepts term.  "
      ]
    },
    {
      "cell_type": "code",
      "metadata": {
        "id": "ZKv-j8ctxqMi"
      },
      "source": [
        "from sklearn.linear_model import LinearRegression # 1. choose model class\n",
        "\n",
        "model = # your code here                          # 2. instantiate model\n",
        "# your code here                                  # 3. fit model to data\n",
        "\n",
        "model.coef_, model.intercept_"
      ],
      "execution_count": null,
      "outputs": []
    },
    {
      "cell_type": "markdown",
      "metadata": {
        "id": "JzwefjGYhlyz"
      },
      "source": [
        "Finally, we make predictions on the training and test set and evaluate the mean squared error. Of course, there are automated functions for this, but let's do it manually so that we can make sure we understand how it works. \n",
        "\n",
        "First we predict on the training data:"
      ]
    },
    {
      "cell_type": "code",
      "metadata": {
        "id": "iME4cItosYor"
      },
      "source": [
        "y_train_fit = # your code here                  # 4a. predict on training data\n",
        "\n",
        "from sklearn.metrics import mean_squared_error\n",
        "# your code here                                # Evaluate"
      ],
      "execution_count": null,
      "outputs": []
    },
    {
      "cell_type": "markdown",
      "metadata": {
        "id": "0czfTAwGs5Wm"
      },
      "source": [
        "Then on the testing data:"
      ]
    },
    {
      "cell_type": "code",
      "metadata": {
        "id": "5H6Qo8jNtmN1"
      },
      "source": [
        "y_test_fit =  # your code here                  # 4b. predict on test data\n",
        "# your code here                                # Evaluate"
      ],
      "execution_count": null,
      "outputs": []
    },
    {
      "cell_type": "markdown",
      "metadata": {
        "id": "Si6Ov0yps8Rl"
      },
      "source": [
        "In this case our MSE is pretty similar, so it's unlikely we overfit. Is this a \"good\" MSE? We don't really know, but we can say that our open-rate predictions are, on average, off by about 17\\%. \n"
      ]
    },
    {
      "cell_type": "markdown",
      "metadata": {
        "id": "shbVGxPpJHJw"
      },
      "source": [
        "## Regularised regression models\n"
      ]
    },
    {
      "cell_type": "markdown",
      "metadata": {
        "id": "fc4pLaLStH0C"
      },
      "source": [
        "\n",
        "### Ridge regression\n",
        "\n",
        "Recall that ridge regression minimizes $\\sum_i (y_i - \\hat{y}_i) + \\lambda \\sum_{j=1}^p \\beta_j^2, $ where $\\lambda$ is the regularization paramter and $\\beta$ the coefficients of the model. \n",
        "In the `Ridge` model, the regularisation parameter is called `alpha`.\n",
        "\n",
        "Since we are penalising the coefficients, it is important that all the predictors are on the same scale. Here, we'll use the `StandardScalar` transform to ensure every predictor has mean  0 and standard deviation 1. Make sure you look at the [documentation](https://scikit-learn.org/stable/modules/generated/sklearn.preprocessing.StandardScaler.html). \n",
        "\n",
        "Note that there is a difference between standardisation and normalisation, which simply ensures all values fall between 0 and 1. "
      ]
    },
    {
      "cell_type": "code",
      "metadata": {
        "id": "t84AcK-W7wgI"
      },
      "source": [
        "from sklearn.preprocessing import StandardScaler \n",
        "\n",
        "scaler = StandardScaler() \n",
        "X1_std_train = scaler.fit_transform(X1_train)\n",
        "X1_std_test = scaler.fit_transform(X1_test)\n",
        "\n",
        "#notice we now have stdev 1 and mean 0 \n",
        "X1_std_train[:,:].std(axis=0), X1_std_train[:,:].mean(axis=0)"
      ],
      "execution_count": null,
      "outputs": []
    },
    {
      "cell_type": "markdown",
      "metadata": {
        "id": "RiTYZGevCUdU"
      },
      "source": [
        "Now we can instantiate and fit the model. Here, we will do 10-fold cross validation and pass an array of regularization parameters to try. After fitting `Ridge.coeff_` contains the coefficients. "
      ]
    },
    {
      "cell_type": "code",
      "metadata": {
        "id": "t6OS6Jp_ByVQ"
      },
      "source": [
        "from sklearn.linear_model import Ridge\n",
        "\n",
        "ridge = # your code here    # instantiate\n",
        "# your code here            # fit to training data\n",
        "\n",
        "ridge.coef_"
      ],
      "execution_count": null,
      "outputs": []
    },
    {
      "cell_type": "markdown",
      "metadata": {
        "id": "iEUwPuBqElQM"
      },
      "source": [
        "We can compute the MSE manually as before. Let's just do the test MSE this time. "
      ]
    },
    {
      "cell_type": "code",
      "metadata": {
        "id": "SF2MP56e2QAJ"
      },
      "source": [
        "# your code here "
      ],
      "execution_count": null,
      "outputs": []
    },
    {
      "cell_type": "markdown",
      "metadata": {
        "id": "g7rpJJHWE8iT"
      },
      "source": [
        "### Fitting Lasso and ElasticNet\n",
        "Recall that lasso minimizes $\\sum_i (y_i - \\hat{y}_i) + \\lambda \\sum_{j=1}^p |\\beta_j|, $ where $\\lambda$ is the regularization paramter and $\\beta$ the coefficients of the model.\n",
        "The `Lasso` interface is very similar to `Ridge`. Instantiate the model, fit it to your training data, make predictions and evaluate the test MSE.  \n"
      ]
    },
    {
      "cell_type": "code",
      "metadata": {
        "id": "oMhehAfhFrTG"
      },
      "source": [
        "# import Lasso from sklearn.linear_model\n",
        "\n",
        "# instantiate the Lasso model\n",
        "\n",
        "# fit to X1_std_train\n",
        "\n",
        "# predict on the test set\n",
        "\n",
        "# evaluate MSE on the test set"
      ],
      "execution_count": null,
      "outputs": []
    },
    {
      "cell_type": "markdown",
      "metadata": {
        "id": "FjaiFylqGgt0"
      },
      "source": [
        "Elastic nets minimize $\\sum_i (y_i - \\hat{y}_i) + \\lambda \\sum_{j=1}^p (\\gamma |\\beta_j| + (1-\\gamma) \\beta_j^2), $ so the penality term is a linear combination of the ridge and lasso penalty terms. As in `Ridge` and `Lasso` the regularization parameter $\\lambda$ is called `alpha`, and the $\\gamma$ parameter that trades of between the two different penalty terms is called `l1_ratio`. The `l1_ratio` must be between 0 and 1. When `l1_ratio=0`, the penalty is the $\\ell_2$-norm (ridge). \n",
        "\n",
        "When you try multiple $\\gamma$/`l1_ratio` values, it is often a good idea to try several values close to 1 (where the model will behave similar to lasso), for example `[.1, .5, .7, .9, .95, .99, 1]`. \n",
        "\n",
        "Go through the instantiate, fit, predict, evaluate process for `ElasticNet`."
      ]
    },
    {
      "cell_type": "code",
      "metadata": {
        "id": "cmUI8tDUIoXD"
      },
      "source": [
        "# your code here"
      ],
      "execution_count": null,
      "outputs": []
    },
    {
      "cell_type": "markdown",
      "metadata": {
        "id": "B_Po3aNajyEI"
      },
      "source": [
        "## Decision trees\n",
        "\n",
        "Let's start with a straightforward decision tree using the [`DecisionTreeRegressor`](https://scikit-learn.org/stable/modules/generated/sklearn.tree.DecisionTreeRegressor.html). We import the model, then  instantiate and train it. "
      ]
    },
    {
      "cell_type": "code",
      "metadata": {
        "id": "9Bw1V4NjganF"
      },
      "source": [
        "from sklearn.tree import DecisionTreeRegressor\n",
        "dt = DecisionTreeRegressor()    #instantiate\n",
        "# your code here                (fit on X1_train )"
      ],
      "execution_count": null,
      "outputs": []
    },
    {
      "cell_type": "markdown",
      "metadata": {
        "id": "HglGTe-u0URZ"
      },
      "source": [
        "Now we can make predictions on the training set and evaluate MSE. Instead of doing it manually we'll use [`mean_squared_error`](https://scikit-learn.org/stable/modules/generated/sklearn.metrics.mean_squared_error.html). Spend some time browsing [`sklearn.metrics`](https://scikit-learn.org/stable/modules/classes.html#module-sklearn.metrics) to see what other metrics are available and think carefully for each problem whether another metric may be more appropriate. "
      ]
    },
    {
      "cell_type": "code",
      "metadata": {
        "id": "2BhQgYKO0d8g"
      },
      "source": [
        "from sklearn.metrics import mean_squared_error\n",
        "# your code here   (predict, then evaluate)"
      ],
      "execution_count": null,
      "outputs": []
    },
    {
      "cell_type": "markdown",
      "metadata": {
        "id": "4_0pd6A20dOH"
      },
      "source": [
        "We can do the same for the test set: "
      ]
    },
    {
      "cell_type": "code",
      "metadata": {
        "id": "OTgL0jle68Tb"
      },
      "source": [
        "# your code here   (predict, then evaluate)"
      ],
      "execution_count": null,
      "outputs": []
    },
    {
      "cell_type": "markdown",
      "metadata": {
        "id": "P8rrafDM6KqJ"
      },
      "source": [
        "One of the great things about decision trees is that they are interpretable, so we can plot what the tree looks like. You should try adjusting the complexity parameters of the tree (including `max_depth`, `min_samples_split` and `min_samples_leaf`) to see how it changes. "
      ]
    },
    {
      "cell_type": "code",
      "metadata": {
        "id": "f1-uKZkw11-m"
      },
      "source": [
        "from sklearn import tree\n",
        "fig = plt.figure(figsize=(20,16))\n",
        "tree.plot_tree(dt, feature_names=predictors);"
      ],
      "execution_count": null,
      "outputs": []
    },
    {
      "cell_type": "markdown",
      "metadata": {
        "id": "eJkPMQNCxi1t"
      },
      "source": []
    },
    {
      "cell_type": "markdown",
      "metadata": {
        "id": "P6VCBYbIxsa6"
      },
      "source": [
        "## Random forests\n",
        "\n",
        "We've used [`DecisionTreeRegressor`](https://scikit-learn.org/stable/modules/generated/sklearn.tree.DecisionTreeRegressor.html) and [`DecisionTreeClassifier`](https://scikit-learn.org/stable/modules/generated/sklearn.tree.DecisionTreeClassifier.html) to train basic decision trees. Similarly, we will use [`RandomForestRegressor`](https://scikit-learn.org/stable/modules/generated/sklearn.ensemble.RandomForestRegressor.html) and [`RandomForestClassifier`](https://scikit-learn.org/stable/modules/generated/sklearn.ensemble.RandomForestClassifier.html) for bagging and random forests.\n",
        "\n",
        "These models have several parameters that you will have to pay attention to, including the following: \n",
        "\n",
        "*   `n_estimators`: the number of trees in the forest;\n",
        "*   `criterion`: metric used to pick a split, as in decision trees; \n",
        "*   `max_depth`, `min_samples_split`, `min_samples_leaf`, etc: different ways of controlling the complexity of the tree; \n",
        "*   `max_features`: the number of predictors to consider at every split, the default behaviour is $\\sqrt{p}$ for classification and $p$ for regression (you probably want to start with something like $p/2$ instead for regression); \n",
        "*   `max_samples`: the number of samples to draw when bootstrap sampling, the default is to draw a number of bootstrap samples equal to the size of the training set."
      ]
    },
    {
      "cell_type": "markdown",
      "metadata": {
        "id": "TLlONLGHQ0oK"
      },
      "source": [
        "For the purposes of illustration, let's train a random forest consisting of 50 decision stumps (`max_depth=1`). "
      ]
    },
    {
      "cell_type": "code",
      "metadata": {
        "id": "2-4eOmyHxsa8"
      },
      "source": [
        "from sklearn.ensemble import RandomForestRegressor\n",
        "\n",
        "# your code here (instantiate and fit)"
      ],
      "execution_count": null,
      "outputs": []
    },
    {
      "cell_type": "markdown",
      "metadata": {
        "id": "bwM-JSSPxsa9"
      },
      "source": [
        "Let's see how we do on the training set. As always, we have the `predict()` method available. "
      ]
    },
    {
      "cell_type": "code",
      "metadata": {
        "id": "ZjbunAwzxsa-"
      },
      "source": [
        "# your code here"
      ],
      "execution_count": null,
      "outputs": []
    },
    {
      "cell_type": "markdown",
      "metadata": {
        "id": "ysfBHccyUGp7"
      },
      "source": [
        "If we were doing binary regression, we would also be interested in the `predict_proba()`, which predicts the probability for each of the classes. In other words, if the output classes are 0 or 1, `predict_proba()` returns a vector containing (*probability of label 0*, *probability of label 1*).\n",
        "\n",
        "### Feature importance and investigating individual trees\n",
        "\n",
        "Something that ensemble methods allow us to do that is harder in basic decision trees, is to estimate the importance of various features. This gives a measure of how much accuracy improved/error decreased (or reduction in Gini impurity, depending on which metric we are using) when splitting on a feauture, on average across all the times a feature was considered in any of the trees. The attribute `feature_importances_` returns a vector of normalised importances for each of the predictors. "
      ]
    },
    {
      "cell_type": "code",
      "metadata": {
        "id": "PTxA1V7kXQTO",
        "colab": {
          "base_uri": "https://localhost:8080/"
        },
        "outputId": "8b80dcd9-2b45-4c1a-ffb6-75ee05ee1c49"
      },
      "source": [
        "rf.feature_importances_"
      ],
      "execution_count": null,
      "outputs": [
        {
          "output_type": "execute_result",
          "data": {
            "text/plain": [
              "array([0.12, 0.06, 0.38, 0.44])"
            ]
          },
          "metadata": {
            "tags": []
          },
          "execution_count": 11
        }
      ]
    },
    {
      "cell_type": "markdown",
      "metadata": {
        "id": "z7hAe2T9Yx4o"
      },
      "source": [
        "You can use feature importance to do feature selection, if needed. We can also plot individual trees in the ensemble by inspecting the `estimators_` attribute. We use the tree library library for plotting as before. \n",
        "Remember that we are training decision stump, so each of the trees consists of a single split. "
      ]
    },
    {
      "cell_type": "code",
      "metadata": {
        "id": "9jYl5PYexsbA"
      },
      "source": [
        "from sklearn import tree\n",
        "tree.plot_tree(rf.estimators_[22], feature_names=predictors); # try trees 22, 28"
      ],
      "execution_count": null,
      "outputs": []
    },
    {
      "cell_type": "markdown",
      "metadata": {
        "id": "vedt4TxnQsc3"
      },
      "source": [
        "## Boosting\n",
        "\n",
        "We will use an implementation of the AdaBoost algorithm to train boosted forests with [AdaBoostRegressor](https://scikit-learn.org/stable/modules/generated/sklearn.ensemble.AdaBoostRegressor.html) (or [AdaBoostClassifier](https://scikit-learn.org/stable/modules/generated/sklearn.ensemble.AdaBoostClassifier.html)). The  arguments we care most about are: \n",
        "\n",
        "* `base_estimator`: The estimator to train at every step, by default `DecisionTreeRegressor(max_depth=3)`.\n",
        "*  `n_classifiers`: The number of trees to train. \n",
        "*  `learning_rate`: Essentially the crushing parameter we discussed in class. Each classifier's contribution to the final model is shrunk by the learning rate. \n",
        "\n",
        "Let's do boosting with decision stumps (decision trees of depth 1)."
      ]
    },
    {
      "cell_type": "code",
      "metadata": {
        "id": "kphtuTuFQu_M"
      },
      "source": [
        "from sklearn.tree import DecisionTreeRegressor\n",
        "from sklearn.ensemble import AdaBoostRegressor\n",
        "\n",
        "num_trees = 100\n",
        "decision_stump = DecisionTreeRegressor(max_depth=1)\n",
        "\n",
        "# your code here"
      ],
      "execution_count": null,
      "outputs": []
    },
    {
      "cell_type": "markdown",
      "metadata": {
        "id": "2Fkrc_RKetva"
      },
      "source": [
        "Remember to tune the boosting algorithm by varying the number of trees trained and the maximum depth of the individual trees. "
      ]
    },
    {
      "cell_type": "markdown",
      "metadata": {
        "id": "TI_ZThaMN7ie"
      },
      "source": [
        "## Explore on your own\n",
        "Now that you've learned how to train several different types of models it is time to start the iterative process of improvement. \n",
        "Experiment to see if you can improve the model by adding features, trying different transformations or tuning the regularization parameters. Tune the respective models' parameters to make sure they function as well as possible. \n",
        "\n",
        "(Hint: When you're stuck, try including `state` and some of the activity-related predictors in your model. )\n",
        "\n",
        "At some point it may be useful to automate much of this process, notebook 2.4 gives one example for a possible structure you can consider using. \n"
      ]
    }
  ]
}